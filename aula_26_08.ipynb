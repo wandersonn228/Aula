{
  "nbformat": 4,
  "nbformat_minor": 0,
  "metadata": {
    "colab": {
      "name": "aula 26/08.ipynb",
      "provenance": [],
      "authorship_tag": "ABX9TyOmrl5xkZCwdxwriipMCLbz",
      "include_colab_link": true
    },
    "kernelspec": {
      "name": "python3",
      "display_name": "Python 3"
    }
  },
  "cells": [
    {
      "cell_type": "markdown",
      "metadata": {
        "id": "view-in-github",
        "colab_type": "text"
      },
      "source": [
        "<a href=\"https://colab.research.google.com/github/wandersonn228/Aula/blob/master/aula_26_08.ipynb\" target=\"_parent\"><img src=\"https://colab.research.google.com/assets/colab-badge.svg\" alt=\"Open In Colab\"/></a>"
      ]
    },
    {
      "cell_type": "code",
      "metadata": {
        "id": "rY6Hcd9vZV9S",
        "colab_type": "code",
        "colab": {
          "base_uri": "https://localhost:8080/",
          "height": 34
        },
        "outputId": "b11540b5-b9f6-42ee-8a4f-5cd59e3a5047"
      },
      "source": [
        "Meuscarros = 'Meus carros foram: {0}, {0}, {1} e {4},'\n",
        "Carro0 = 'Ka'\n",
        "Carro1 = 'Gol'\n",
        "Carro2 = 'Sentra'\n",
        "Carro3 = 'Bravo'\n",
        "Carro4 = 'Virtus'\n",
        "print( Meuscarros.format(Carro0, Carro1, Carro2, Carro3, Carro4))"
      ],
      "execution_count": 4,
      "outputs": [
        {
          "output_type": "stream",
          "text": [
            "Meus carros foram: Ka, Ka, Gol e Virtus,\n"
          ],
          "name": "stdout"
        }
      ]
    }
  ]
}